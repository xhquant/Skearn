{
 "cells": [
  {
   "cell_type": "markdown",
   "metadata": {},
   "source": [
    "## What is Machine Learning, and how does is work?"
   ]
  },
  {
   "cell_type": "markdown",
   "metadata": {},
   "source": [
    "### Agenda\n",
    "* 什么是机器学习?\n",
    "* 机器学习的两大分类是什么?\n",
    "* 机器学习的一些列子?\n",
    "* 机器学习究竟如何工作?"
   ]
  },
  {
   "cell_type": "markdown",
   "metadata": {},
   "source": [
    "### 什么是机器学习?"
   ]
  },
  {
   "cell_type": "markdown",
   "metadata": {},
   "source": [
    "机器学习的一种定义: \"Machine Learning is the semi-automated extraction of knowledge from data\"\n",
    "* **Knowledge from data:** Starts with a question that might be answerable using data\n",
    "* **Automated extraction:** A computer provides the insight\n",
    "* **Semi-automated:** Requires many smart decisions by a human"
   ]
  }
 ],
 "metadata": {
  "kernelspec": {
   "display_name": "Python 3",
   "language": "python",
   "name": "python3"
  },
  "language_info": {
   "codemirror_mode": {
    "name": "ipython",
    "version": 3
   },
   "file_extension": ".py",
   "mimetype": "text/x-python",
   "name": "python",
   "nbconvert_exporter": "python",
   "pygments_lexer": "ipython3",
   "version": "3.8.3"
  }
 },
 "nbformat": 4,
 "nbformat_minor": 4
}
